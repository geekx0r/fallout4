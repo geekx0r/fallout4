{
 "cells": [
  {
   "cell_type": "markdown",
   "id": "6f897fe1",
   "metadata": {},
   "source": [
    "# Fallout 4 WSFW Layout Analyzer Tool\n",
    "Reads a Workshop Framework exported file (.log) and will tell you how many Sim Settlements 2 plots there are of each type &/or size, and what addon plugins they require."
   ]
  },
  {
   "cell_type": "markdown",
   "id": "43bd244e",
   "metadata": {},
   "source": [
    "## Instructions\n",
    "Run each of the segments of code below by clicking inside them and pressing the Run button above. (Note: These explanation boxes don't need running, only the ones with code.)\n",
    "The first box will create an Upload button. Click that and browse for your .log file. When you click ok, you should see the button switch from Upload(0) to say Upload(1). This is good. You may then run the next cell."
   ]
  },
  {
   "cell_type": "code",
   "execution_count": null,
   "id": "2160ba3a",
   "metadata": {},
   "outputs": [],
   "source": [
    "import ipywidgets as widgets\n",
    "import pandas as pd\n",
    "import io\n",
    "pd.set_option(\"display.max_colwidth\", 200)\n",
    "\n",
    "uploader = widgets.FileUpload(accept='.log', multiple=False)\n",
    "display(uploader)"
   ]
  },
  {
   "cell_type": "code",
   "execution_count": null,
   "id": "d2f53e6b",
   "metadata": {},
   "outputs": [],
   "source": [
    "#data = pd.read_csv(\"WSFWExport_Settlement_104537.0.log\", engine='python', sep='~_~', skiprows=10, header=None, \\\n",
    "#                   index_col=False, \\\n",
    "#                   names=['Col1','Plugin','Coord1','Coord2','Coord3','Coord4','Coord5','Coord6','Coord7','TF1','TF2', \\\n",
    "#                          'ObjName','ObjInfo1','ObjInfo2','ObjInfo3'], usecols=[1,11,14])\n",
    "\n",
    "uploaded_file_text = uploader.data[0]\n",
    "\n",
    "data = pd.read_csv(io.BytesIO(uploaded_file_text), engine='python', sep='~_~', skiprows=10, header=None, \\\n",
    "                   index_col=False, \\\n",
    "                   names=['Col1','Plugin','Coord1','Coord2','Coord3','Coord4','Coord5','Coord6','Coord7','TF1','TF2', \\\n",
    "                          'ObjName','ObjInfo1','ObjInfo2','ObjInfo3'], usecols=[1,11,14])\n",
    "\n",
    "ss2 = data[data['Plugin'] == 'SS2.esm']\n",
    "ss2plots = ss2[ss2['ObjName'].str.contains(\"Plot\") == True].reset_index(drop=True)\n",
    "parsedplots1 = pd.DataFrame(ss2plots.ObjName.str.split(' - ', expand=True).values, columns=['PlotType','PlotSize'])\n",
    "parsedplots2 = pd.DataFrame(ss2plots.ObjInfo3.str.split(\"|\", expand=True).values, \\\n",
    "            columns=['Plot','PluginESP','Skin','SkinESP','4','PlotLevel','6','7','8','9','10','11','12','13','14'])\n",
    "parsedplots2['PluginESP'] = parsedplots2['PluginESP'].str.strip('-.#[]')\n",
    "parsedplots2['SkinESP'] = parsedplots2['SkinESP'].str.strip('-.#[]')\n",
    "parsedplots2['PlotLevel'] = parsedplots2['PlotLevel'].str.strip('-.#[]')\n",
    "parsedplots2 = parsedplots2[['PluginESP','SkinESP','PlotLevel']]"
   ]
  },
  {
   "cell_type": "markdown",
   "id": "7d666bc2",
   "metadata": {},
   "source": [
    "### All Plots"
   ]
  },
  {
   "cell_type": "code",
   "execution_count": null,
   "id": "6dff3977",
   "metadata": {
    "scrolled": true
   },
   "outputs": [],
   "source": [
    "allplots = pd.concat([parsedplots1, parsedplots2], axis=1)\n",
    "allplots"
   ]
  },
  {
   "cell_type": "markdown",
   "id": "b20f9585",
   "metadata": {},
   "source": [
    "### Plot Counts by Type"
   ]
  },
  {
   "cell_type": "code",
   "execution_count": null,
   "id": "cdb73847",
   "metadata": {},
   "outputs": [],
   "source": [
    "grouped2 = allplots.groupby([\"PlotType\"])\n",
    "grouped2[[\"PlotType\"]].size()"
   ]
  },
  {
   "cell_type": "markdown",
   "id": "1c3d7bd1",
   "metadata": {},
   "source": [
    "### Plot Counts by Type and Size"
   ]
  },
  {
   "cell_type": "code",
   "execution_count": null,
   "id": "bb54af01",
   "metadata": {},
   "outputs": [],
   "source": [
    "grouped = allplots.groupby([\"PlotType\",\"PlotSize\"])\n",
    "grouped[[\"PlotType\"]].size()"
   ]
  },
  {
   "cell_type": "markdown",
   "id": "6fd04994",
   "metadata": {},
   "source": [
    "### Plugins and Count of times used"
   ]
  },
  {
   "cell_type": "code",
   "execution_count": null,
   "id": "03b530cf",
   "metadata": {},
   "outputs": [],
   "source": [
    "addons = allplots.groupby(['PluginESP'])\n",
    "addons[[\"PluginESP\"]].size()"
   ]
  },
  {
   "cell_type": "markdown",
   "id": "8a0760e3",
   "metadata": {},
   "source": [
    "The above 4 code blocks generated your reports. Copy and paste what you need. Go *File* | *Close and Halt* when you're done, then close the browser window when it says you can.\n",
    "\n",
    "Feedback to Reina on Discord or reina@ywing.net. I promise I'll make a better user interface for this!\n",
    "\n",
    "...Also, please don't judge my terrible code too much. ^-^"
   ]
  }
 ],
 "metadata": {
  "kernelspec": {
   "display_name": "Python 3 (ipykernel)",
   "language": "python",
   "name": "python3"
  },
  "language_info": {
   "codemirror_mode": {
    "name": "ipython",
    "version": 3
   },
   "file_extension": ".py",
   "mimetype": "text/x-python",
   "name": "python",
   "nbconvert_exporter": "python",
   "pygments_lexer": "ipython3",
   "version": "3.9.12"
  }
 },
 "nbformat": 4,
 "nbformat_minor": 5
}
